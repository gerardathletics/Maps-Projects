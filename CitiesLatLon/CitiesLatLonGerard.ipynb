{
 "cells": [
  {
   "cell_type": "code",
   "execution_count": 1,
   "metadata": {},
   "outputs": [],
   "source": [
    "import pandas as pd\n",
    "import geopandas as gpd\n",
    "from geopandas import GeoSeries\n",
    "import folium\n",
    "from shapely.geometry import Point, LineString, shape, mapping\n",
    "import shapely.wkt\n",
    "import pyproj\n",
    "import os\n",
    "import osmnx as ox\n",
    "import ogr\n",
    "import urllib.request\n",
    "import geopy\n",
    "from geopy.geocoders import Nominatim\n",
    "import fiona\n",
    "import shapefile\n",
    "from pyproj import Proj, transform"
   ]
  },
  {
   "cell_type": "code",
   "execution_count": 2,
   "metadata": {},
   "outputs": [],
   "source": [
    "if not os.path.exists('data'): os.makedirs('data')\n",
    "if not os.path.exists('output'): os.makedirs('output')"
   ]
  },
  {
   "cell_type": "markdown",
   "metadata": {},
   "source": [
    "Defining functions for getting the coordinates and city shapefile (if wanted)."
   ]
  },
  {
   "cell_type": "code",
   "execution_count": 3,
   "metadata": {},
   "outputs": [],
   "source": [
    "# Gets the city boundary and saves it as a shapefile, if needed\n",
    "def city_boundary(city):\n",
    "    cityboundary = ox.gdf_from_place(city)  # Creates gdf from the place\n",
    "    ox.save_gdf_shapefile(cityboundary, \"city_boundary\", \"./data\")  # Saves gdf as a shapefile\n",
    "\n",
    "# Gets the coordinates from the city\n",
    "def get_coordinates(name, city):\n",
    "    geolocator = Nominatim(user_agent=name)\n",
    "    location = geolocator.geocode(city)\n",
    "    lat, lon = location.latitude, location.longitude\n",
    "    print((lat, lon))\n",
    "    SeeLocation = folium.Map(location=[lat, lon])\n",
    "    folium.Marker(location=[lat, lon]).add_to(SeeLocation)\n",
    "    return lat, lon, SeeLocation"
   ]
  },
  {
   "cell_type": "markdown",
   "metadata": {},
   "source": [
    "Calling the coordinates function and define the city or place you want to get the lat-lon lines"
   ]
  },
  {
   "cell_type": "code",
   "execution_count": 4,
   "metadata": {},
   "outputs": [
    {
     "name": "stdout",
     "output_type": "stream",
     "text": [
      "(41.6147605, 0.6267842)\n"
     ]
    }
   ],
   "source": [
    "city = 'Lleida'\n",
    "name = 'Gerard' # Write your name?\n",
    "#city_boundary(city) # Call this if you want a shapefile of the city/municipality\n",
    "lat, lon, AreaMap = get_coordinates(name, city)\n",
    "#AreaMap # Call this if you want to check if the city/area is correct with a leaflet map"
   ]
  },
  {
   "cell_type": "markdown",
   "metadata": {},
   "source": [
    "Creating lines with equal latitude and longitude as the selected city"
   ]
  },
  {
   "cell_type": "code",
   "execution_count": 5,
   "metadata": {},
   "outputs": [],
   "source": [
    "limit_lon = -179.9\n",
    "limit_lon2 = 179.9\n",
    "\n",
    "coordinates = {'LAT': [lat, lat], 'LON': [limit_lon, limit_lon2]}\n",
    "\n",
    "same_lat = pd.DataFrame(data=coordinates)\n",
    "same_lat = gpd.GeoDataFrame(same_lat, geometry=gpd.points_from_xy(same_lat.LON, same_lat.LAT))\n",
    "same_lat.crs = {'init': 'epsg:4326'} #epsg4326\n",
    "\n",
    "#gjson = same_lat.to_json()\n",
    "geom0_lat = same_lat.loc[0]['geometry']\n",
    "geom1_lat = same_lat.loc[1]['geometry']\n",
    "\n",
    "# Create LineString from coordinates\n",
    "startlat, endlat = [(geom0_lat.x, geom0_lat.y), (geom1_lat.x, geom1_lat.y)]\n",
    "line_lat = LineString([startlat, endlat])"
   ]
  },
  {
   "cell_type": "code",
   "execution_count": 6,
   "metadata": {},
   "outputs": [
    {
     "name": "stdout",
     "output_type": "stream",
     "text": [
      "LINESTRING (0.6267842 -89.90000000000001, 0.6267842 89.90000000000001)\n"
     ]
    }
   ],
   "source": [
    "limit_lat = -89.9\n",
    "limit_lat2 = 89.9\n",
    "\n",
    "coordinates = {'LAT': [limit_lat, limit_lat2], 'LON': [lon, lon]}\n",
    "\n",
    "same_lon = pd.DataFrame(data=coordinates)\n",
    "same_lon = gpd.GeoDataFrame(same_lon, geometry=gpd.points_from_xy(same_lon.LON, same_lon.LAT))\n",
    "same_lon.crs = {'init': 'epsg:4326'}\n",
    "\n",
    "#gjson = same_lat.to_json()\n",
    "geom0_lon = same_lon.loc[0]['geometry']\n",
    "geom1_lon = same_lon.loc[1]['geometry']\n",
    "\n",
    "# Create LineString from coordinates\n",
    "startlon, endlon = [(geom0_lon.x, geom0_lon.y), (geom1_lon.x, geom1_lon.y)]\n",
    "line_lon = LineString([startlon, endlon])\n",
    "print(line_lon)"
   ]
  },
  {
   "cell_type": "code",
   "execution_count": 7,
   "metadata": {},
   "outputs": [],
   "source": [
    "line_lon, line_lat\n",
    "gs_linelon = gpd.GeoSeries([line_lon])\n",
    "gs_linelat = gpd.GeoSeries([line_lat])\n",
    "\n",
    "gslonbuffer = gs_linelon.buffer(0.03)\n",
    "gslonbuffer.crs = {'init': 'epsg:4326'}\n",
    "\n",
    "gslatbuffer = gs_linelat.buffer(0.03)\n",
    "gslatbuffer.crs = {'init': 'epsg:4326'}"
   ]
  },
  {
   "cell_type": "markdown",
   "metadata": {},
   "source": [
    "Plotting the lines in a leaflet map"
   ]
  },
  {
   "cell_type": "code",
   "execution_count": 8,
   "metadata": {},
   "outputs": [
    {
     "name": "stderr",
     "output_type": "stream",
     "text": [
      "C:\\Users\\Gerard\\Anaconda3\\lib\\site-packages\\pyproj\\crs.py:77: FutureWarning: '+init=<authority>:<code>' syntax is deprecated. '<authority>:<code>' is the preferred initialization method.\n",
      "  return _prepare_from_string(\" \".join(pjargs))\n"
     ]
    },
    {
     "data": {
      "text/html": [
       "<div style=\"width:100%;\"><div style=\"position:relative;width:100%;height:0;padding-bottom:60%;\"><iframe src=\"about:blank\" style=\"position:absolute;width:100%;height:100%;left:0;top:0;border:none !important;\" data-html=PCFET0NUWVBFIGh0bWw+CjxoZWFkPiAgICAKICAgIDxtZXRhIGh0dHAtZXF1aXY9ImNvbnRlbnQtdHlwZSIgY29udGVudD0idGV4dC9odG1sOyBjaGFyc2V0PVVURi04IiAvPgogICAgCiAgICAgICAgPHNjcmlwdD4KICAgICAgICAgICAgTF9OT19UT1VDSCA9IGZhbHNlOwogICAgICAgICAgICBMX0RJU0FCTEVfM0QgPSBmYWxzZTsKICAgICAgICA8L3NjcmlwdD4KICAgIAogICAgPHNjcmlwdCBzcmM9Imh0dHBzOi8vY2RuLmpzZGVsaXZyLm5ldC9ucG0vbGVhZmxldEAxLjUuMS9kaXN0L2xlYWZsZXQuanMiPjwvc2NyaXB0PgogICAgPHNjcmlwdCBzcmM9Imh0dHBzOi8vY29kZS5qcXVlcnkuY29tL2pxdWVyeS0xLjEyLjQubWluLmpzIj48L3NjcmlwdD4KICAgIDxzY3JpcHQgc3JjPSJodHRwczovL21heGNkbi5ib290c3RyYXBjZG4uY29tL2Jvb3RzdHJhcC8zLjIuMC9qcy9ib290c3RyYXAubWluLmpzIj48L3NjcmlwdD4KICAgIDxzY3JpcHQgc3JjPSJodHRwczovL2NkbmpzLmNsb3VkZmxhcmUuY29tL2FqYXgvbGlicy9MZWFmbGV0LmF3ZXNvbWUtbWFya2Vycy8yLjAuMi9sZWFmbGV0LmF3ZXNvbWUtbWFya2Vycy5qcyI+PC9zY3JpcHQ+CiAgICA8bGluayByZWw9InN0eWxlc2hlZXQiIGhyZWY9Imh0dHBzOi8vY2RuLmpzZGVsaXZyLm5ldC9ucG0vbGVhZmxldEAxLjUuMS9kaXN0L2xlYWZsZXQuY3NzIi8+CiAgICA8bGluayByZWw9InN0eWxlc2hlZXQiIGhyZWY9Imh0dHBzOi8vbWF4Y2RuLmJvb3RzdHJhcGNkbi5jb20vYm9vdHN0cmFwLzMuMi4wL2Nzcy9ib290c3RyYXAubWluLmNzcyIvPgogICAgPGxpbmsgcmVsPSJzdHlsZXNoZWV0IiBocmVmPSJodHRwczovL21heGNkbi5ib290c3RyYXBjZG4uY29tL2Jvb3RzdHJhcC8zLjIuMC9jc3MvYm9vdHN0cmFwLXRoZW1lLm1pbi5jc3MiLz4KICAgIDxsaW5rIHJlbD0ic3R5bGVzaGVldCIgaHJlZj0iaHR0cHM6Ly9tYXhjZG4uYm9vdHN0cmFwY2RuLmNvbS9mb250LWF3ZXNvbWUvNC42LjMvY3NzL2ZvbnQtYXdlc29tZS5taW4uY3NzIi8+CiAgICA8bGluayByZWw9InN0eWxlc2hlZXQiIGhyZWY9Imh0dHBzOi8vY2RuanMuY2xvdWRmbGFyZS5jb20vYWpheC9saWJzL0xlYWZsZXQuYXdlc29tZS1tYXJrZXJzLzIuMC4yL2xlYWZsZXQuYXdlc29tZS1tYXJrZXJzLmNzcyIvPgogICAgPGxpbmsgcmVsPSJzdHlsZXNoZWV0IiBocmVmPSJodHRwczovL3Jhd2Nkbi5naXRoYWNrLmNvbS9weXRob24tdmlzdWFsaXphdGlvbi9mb2xpdW0vbWFzdGVyL2ZvbGl1bS90ZW1wbGF0ZXMvbGVhZmxldC5hd2Vzb21lLnJvdGF0ZS5jc3MiLz4KICAgIDxzdHlsZT5odG1sLCBib2R5IHt3aWR0aDogMTAwJTtoZWlnaHQ6IDEwMCU7bWFyZ2luOiAwO3BhZGRpbmc6IDA7fTwvc3R5bGU+CiAgICA8c3R5bGU+I21hcCB7cG9zaXRpb246YWJzb2x1dGU7dG9wOjA7Ym90dG9tOjA7cmlnaHQ6MDtsZWZ0OjA7fTwvc3R5bGU+CiAgICAKICAgICAgICAgICAgPG1ldGEgbmFtZT0idmlld3BvcnQiIGNvbnRlbnQ9IndpZHRoPWRldmljZS13aWR0aCwKICAgICAgICAgICAgICAgIGluaXRpYWwtc2NhbGU9MS4wLCBtYXhpbXVtLXNjYWxlPTEuMCwgdXNlci1zY2FsYWJsZT1ubyIgLz4KICAgICAgICAgICAgPHN0eWxlPgogICAgICAgICAgICAgICAgI21hcF9jOWJlNjNlMzNkNDY0NDRkOTYyMzlmOWJmZjVmNzJiZSB7CiAgICAgICAgICAgICAgICAgICAgcG9zaXRpb246IHJlbGF0aXZlOwogICAgICAgICAgICAgICAgICAgIHdpZHRoOiAxMDAuMCU7CiAgICAgICAgICAgICAgICAgICAgaGVpZ2h0OiAxMDAuMCU7CiAgICAgICAgICAgICAgICAgICAgbGVmdDogMC4wJTsKICAgICAgICAgICAgICAgICAgICB0b3A6IDAuMCU7CiAgICAgICAgICAgICAgICB9CiAgICAgICAgICAgIDwvc3R5bGU+CiAgICAgICAgCjwvaGVhZD4KPGJvZHk+ICAgIAogICAgCiAgICAgICAgICAgIDxkaXYgY2xhc3M9ImZvbGl1bS1tYXAiIGlkPSJtYXBfYzliZTYzZTMzZDQ2NDQ0ZDk2MjM5ZjliZmY1ZjcyYmUiID48L2Rpdj4KICAgICAgICAKPC9ib2R5Pgo8c2NyaXB0PiAgICAKICAgIAogICAgICAgICAgICB2YXIgbWFwX2M5YmU2M2UzM2Q0NjQ0NGQ5NjIzOWY5YmZmNWY3MmJlID0gTC5tYXAoCiAgICAgICAgICAgICAgICAibWFwX2M5YmU2M2UzM2Q0NjQ0NGQ5NjIzOWY5YmZmNWY3MmJlIiwKICAgICAgICAgICAgICAgIHsKICAgICAgICAgICAgICAgICAgICBjZW50ZXI6IFs0MS42MTQ3NjA1LCAwLjYyNjc4NDJdLAogICAgICAgICAgICAgICAgICAgIGNyczogTC5DUlMuRVBTRzM4NTcsCiAgICAgICAgICAgICAgICAgICAgem9vbTogMTAsCiAgICAgICAgICAgICAgICAgICAgem9vbUNvbnRyb2w6IHRydWUsCiAgICAgICAgICAgICAgICAgICAgcHJlZmVyQ2FudmFzOiBmYWxzZSwKICAgICAgICAgICAgICAgIH0KICAgICAgICAgICAgKTsKCiAgICAgICAgICAgIAoKICAgICAgICAKICAgIAogICAgICAgICAgICB2YXIgdGlsZV9sYXllcl8zYzg2ZjU1ODg4ZDA0NzY2YjFlNTNhMWE2ODUyODBkMiA9IEwudGlsZUxheWVyKAogICAgICAgICAgICAgICAgImh0dHBzOi8ve3N9LnRpbGUub3BlbnN0cmVldG1hcC5vcmcve3p9L3t4fS97eX0ucG5nIiwKICAgICAgICAgICAgICAgIHsiYXR0cmlidXRpb24iOiAiRGF0YSBieSBcdTAwMjZjb3B5OyBcdTAwM2NhIGhyZWY9XCJodHRwOi8vb3BlbnN0cmVldG1hcC5vcmdcIlx1MDAzZU9wZW5TdHJlZXRNYXBcdTAwM2MvYVx1MDAzZSwgdW5kZXIgXHUwMDNjYSBocmVmPVwiaHR0cDovL3d3dy5vcGVuc3RyZWV0bWFwLm9yZy9jb3B5cmlnaHRcIlx1MDAzZU9EYkxcdTAwM2MvYVx1MDAzZS4iLCAiZGV0ZWN0UmV0aW5hIjogZmFsc2UsICJtYXhOYXRpdmVab29tIjogMTgsICJtYXhab29tIjogMTgsICJtaW5ab29tIjogMCwgIm5vV3JhcCI6IGZhbHNlLCAib3BhY2l0eSI6IDEsICJzdWJkb21haW5zIjogImFiYyIsICJ0bXMiOiBmYWxzZX0KICAgICAgICAgICAgKS5hZGRUbyhtYXBfYzliZTYzZTMzZDQ2NDQ0ZDk2MjM5ZjliZmY1ZjcyYmUpOwogICAgICAgIAogICAgCiAgICAgICAgZnVuY3Rpb24gZ2VvX2pzb25fNGZjMTFiMzNiZjAyNGVmNzgzMTQxNzc5NDFjYjY2NDZfb25FYWNoRmVhdHVyZShmZWF0dXJlLCBsYXllcikgewogICAgICAgICAgICBsYXllci5vbih7CiAgICAgICAgICAgICAgICBjbGljazogZnVuY3Rpb24oZSkgewogICAgICAgICAgICAgICAgICAgIG1hcF9jOWJlNjNlMzNkNDY0NDRkOTYyMzlmOWJmZjVmNzJiZS5maXRCb3VuZHMoZS50YXJnZXQuZ2V0Qm91bmRzKCkpOwogICAgICAgICAgICAgICAgfQogICAgICAgICAgICB9KTsKICAgICAgICB9OwogICAgICAgIHZhciBnZW9fanNvbl80ZmMxMWIzM2JmMDI0ZWY3ODMxNDE3Nzk0MWNiNjY0NiA9IEwuZ2VvSnNvbihudWxsLCB7CiAgICAgICAgICAgICAgICBvbkVhY2hGZWF0dXJlOiBnZW9fanNvbl80ZmMxMWIzM2JmMDI0ZWY3ODMxNDE3Nzk0MWNiNjY0Nl9vbkVhY2hGZWF0dXJlLAogICAgICAgICAgICAKICAgICAgICB9KTsKICAgICAgICBmdW5jdGlvbiBnZW9fanNvbl80ZmMxMWIzM2JmMDI0ZWY3ODMxNDE3Nzk0MWNiNjY0Nl9hZGQgKGRhdGEpIHsKICAgICAgICAgICAgZ2VvX2pzb25fNGZjMTFiMzNiZjAyNGVmNzgzMTQxNzc5NDFjYjY2NDYuYWRkRGF0YShkYXRhKQogICAgICAgICAgICAgICAgLmFkZFRvKG1hcF9jOWJlNjNlMzNkNDY0NDRkOTYyMzlmOWJmZjVmNzJiZSk7CiAgICAgICAgfQogICAgICAgICAgICBnZW9fanNvbl80ZmMxMWIzM2JmMDI0ZWY3ODMxNDE3Nzk0MWNiNjY0Nl9hZGQoeyJiYm94IjogWzAuNTk2Nzg0MiwgLTg5LjkzLCAwLjY1Njc4NDIsIDg5LjkzXSwgImZlYXR1cmVzIjogW3siYmJveCI6IFswLjU5Njc4NDIsIC04OS45MywgMC42NTY3ODQyLCA4OS45M10sICJnZW9tZXRyeSI6IHsiY29vcmRpbmF0ZXMiOiBbW1swLjU5Njc4NDIsIDg5LjldLCBbMC41OTY5Mjg2NTgxOTk4MzQxLCA4OS45MDI5NDA1MTQyMDk4OV0sIFswLjU5NzM2MDY0MTU4NzkwMzEsIDg5LjkwNTg1MjcwOTY2MDVdLCBbMC41OTgwNzU5ODk5MjgwMzM4LCA4OS45MDg3MDg1NDAzMTc2M10sIFswLjU5OTA2NzgxNDAyNDY2MTUsIDg5LjkxMTQ4MDUwMjk3MDk2XSwgWzAuNjAwMzI2NTYyMDY5NTQ5NCwgODkuOTE0MTQxOTAyMTA0NzldLCBbMC42MDE4NDAxMTE2MzA5MjM3LCA4OS45MTY2NjcxMDY5OTA1OV0sIFswLjYwMzU5Mzg4NjM5OTExNzksIDg5LjkxOTAzMTc5ODUyNDkxXSwgWzAuNjA1NTcwOTk2NTY0NDAzNiwgODkuOTIxMjEzMjAzNDM1Nl0sIFswLjYwNzc1MjQwMTQ3NTA5MDcsIDg5LjkyMzE5MDMxMzYwMDg4XSwgWzAuNjEwMTE3MDkzMDA5NDEyLCA4OS45MjQ5NDQwODgzNjkwOV0sIFswLjYxMjY0MjI5Nzg5NTIyMDEsIDg5LjkyNjQ1NzYzNzkzMDQ1XSwgWzAuNjE1MzAzNjk3MDI5MDQ3MywgODkuOTI3NzE2Mzg1OTc1MzRdLCBbMC42MTgwNzU2NTk2ODIzNjYxLCA4OS45Mjg3MDgyMTAwNzE5N10sIFswLjYyMDkzMTQ5MDMzOTUxNjIsIDg5LjkyOTQyMzU1ODQxMjFdLCBbMC42MjM4NDM2ODU3OTAxMTMyLCA4OS45Mjk4NTU1NDE4MDAxN10sIFswLjYyNjc4NDIsIDg5LjkzXSwgWzAuNjI5NzI0NzE0MjA5ODg2OCwgODkuOTI5ODU1NTQxODAwMTddLCBbMC42MzI2MzY5MDk2NjA0ODM4LCA4OS45Mjk0MjM1NTg0MTIxXSwgWzAuNjM1NDkyNzQwMzE3NjMzOSwgODkuOTI4NzA4MjEwMDcxOTddLCBbMC42MzgyNjQ3MDI5NzA5NTI3LCA4OS45Mjc3MTYzODU5NzUzNF0sIFswLjY0MDkyNjEwMjEwNDc4LCA4OS45MjY0NTc2Mzc5MzA0NV0sIFswLjY0MzQ1MTMwNjk5MDU4ODEsIDg5LjkyNDk0NDA4ODM2OTA5XSwgWzAuNjQ1ODE1OTk4NTI0OTA5MywgODkuOTIzMTkwMzEzNjAwODhdLCBbMC42NDc5OTc0MDM0MzU1OTY0LCA4OS45MjEyMTMyMDM0MzU2XSwgWzAuNjQ5OTc0NTEzNjAwODgyMSwgODkuOTE5MDMxNzk4NTI0OTFdLCBbMC42NTE3MjgyODgzNjkwNzY0LCA4OS45MTY2NjcxMDY5OTA1OV0sIFswLjY1MzI0MTgzNzkzMDQ1MDcsIDg5LjkxNDE0MTkwMjEwNDc5XSwgWzAuNjU0NTAwNTg1OTc1MzM4NiwgODkuOTExNDgwNTAyOTcwOTZdLCBbMC42NTU0OTI0MTAwNzE5NjYyLCA4OS45MDg3MDg1NDAzMTc2M10sIFswLjY1NjIwNzc1ODQxMjA5NjksIDg5LjkwNTg1MjcwOTY2MDVdLCBbMC42NTY2Mzk3NDE4MDAxNjU5LCA4OS45MDI5NDA1MTQyMDk4OV0sIFswLjY1Njc4NDIsIDg5LjldLCBbMC42NTY3ODQyLCAtODkuOV0sIFswLjY1NjYzOTc0MTgwMDE2NTksIC04OS45MDI5NDA1MTQyMDk4OV0sIFswLjY1NjIwNzc1ODQxMjA5NjksIC04OS45MDU4NTI3MDk2NjA1XSwgWzAuNjU1NDkyNDEwMDcxOTY2MiwgLTg5LjkwODcwODU0MDMxNzYzXSwgWzAuNjU0NTAwNTg1OTc1MzM4NiwgLTg5LjkxMTQ4MDUwMjk3MDk2XSwgWzAuNjUzMjQxODM3OTMwNDUwNywgLTg5LjkxNDE0MTkwMjEwNDc5XSwgWzAuNjUxNzI4Mjg4MzY5MDc2NCwgLTg5LjkxNjY2NzEwNjk5MDU5XSwgWzAuNjQ5OTc0NTEzNjAwODgyMSwgLTg5LjkxOTAzMTc5ODUyNDkxXSwgWzAuNjQ3OTk3NDAzNDM1NTk2NCwgLTg5LjkyMTIxMzIwMzQzNTZdLCBbMC42NDU4MTU5OTg1MjQ5MDkzLCAtODkuOTIzMTkwMzEzNjAwODhdLCBbMC42NDM0NTEzMDY5OTA1ODgxLCAtODkuOTI0OTQ0MDg4MzY5MDldLCBbMC42NDA5MjYxMDIxMDQ3OCwgLTg5LjkyNjQ1NzYzNzkzMDQ1XSwgWzAuNjM4MjY0NzAyOTcwOTUyNywgLTg5LjkyNzcxNjM4NTk3NTM0XSwgWzAuNjM1NDkyNzQwMzE3NjMzOSwgLTg5LjkyODcwODIxMDA3MTk3XSwgWzAuNjMyNjM2OTA5NjYwNDgzOSwgLTg5LjkyOTQyMzU1ODQxMjFdLCBbMC42Mjk3MjQ3MTQyMDk4ODY4LCAtODkuOTI5ODU1NTQxODAwMTddLCBbMC42MjY3ODQyLCAtODkuOTNdLCBbMC42MjM4NDM2ODU3OTAxMTMyLCAtODkuOTI5ODU1NTQxODAwMTddLCBbMC42MjA5MzE0OTAzMzk1MTYyLCAtODkuOTI5NDIzNTU4NDEyMV0sIFswLjYxODA3NTY1OTY4MjM2NjEsIC04OS45Mjg3MDgyMTAwNzE5N10sIFswLjYxNTMwMzY5NzAyOTA0NzMsIC04OS45Mjc3MTYzODU5NzUzNF0sIFswLjYxMjY0MjI5Nzg5NTIyMDEsIC04OS45MjY0NTc2Mzc5MzA0NV0sIFswLjYxMDExNzA5MzAwOTQxMiwgLTg5LjkyNDk0NDA4ODM2OTA5XSwgWzAuNjA3NzUyNDAxNDc1MDkwNywgLTg5LjkyMzE5MDMxMzYwMDg4XSwgWzAuNjA1NTcwOTk2NTY0NDAzNiwgLTg5LjkyMTIxMzIwMzQzNTZdLCBbMC42MDM1OTM4ODYzOTkxMTc5LCAtODkuOTE5MDMxNzk4NTI0OTFdLCBbMC42MDE4NDAxMTE2MzA5MjM3LCAtODkuOTE2NjY3MTA2OTkwNTldLCBbMC42MDAzMjY1NjIwNjk1NDk0LCAtODkuOTE0MTQxOTAyMTA0NzldLCBbMC41OTkwNjc4MTQwMjQ2NjE1LCAtODkuOTExNDgwNTAyOTcwOTZdLCBbMC41OTgwNzU5ODk5MjgwMzM4LCAtODkuOTA4NzA4NTQwMzE3NjNdLCBbMC41OTczNjA2NDE1ODc5MDMxLCAtODkuOTA1ODUyNzA5NjYwNV0sIFswLjU5NjkyODY1ODE5OTgzNDEsIC04OS45MDI5NDA1MTQyMDk4OV0sIFswLjU5Njc4NDIsIC04OS45XSwgWzAuNTk2Nzg0MiwgODkuOV1dXSwgInR5cGUiOiAiUG9seWdvbiJ9LCAiaWQiOiAiMCIsICJwcm9wZXJ0aWVzIjoge30sICJ0eXBlIjogIkZlYXR1cmUifV0sICJ0eXBlIjogIkZlYXR1cmVDb2xsZWN0aW9uIn0pOwogICAgICAgIAogICAgCiAgICAgICAgZnVuY3Rpb24gZ2VvX2pzb25fZWZkMTY5Mjg4MDllNDY4MDhjODMwZWI3NjQwNjdmZGRfb25FYWNoRmVhdHVyZShmZWF0dXJlLCBsYXllcikgewogICAgICAgICAgICBsYXllci5vbih7CiAgICAgICAgICAgICAgICBjbGljazogZnVuY3Rpb24oZSkgewogICAgICAgICAgICAgICAgICAgIG1hcF9jOWJlNjNlMzNkNDY0NDRkOTYyMzlmOWJmZjVmNzJiZS5maXRCb3VuZHMoZS50YXJnZXQuZ2V0Qm91bmRzKCkpOwogICAgICAgICAgICAgICAgfQogICAgICAgICAgICB9KTsKICAgICAgICB9OwogICAgICAgIHZhciBnZW9fanNvbl9lZmQxNjkyODgwOWU0NjgwOGM4MzBlYjc2NDA2N2ZkZCA9IEwuZ2VvSnNvbihudWxsLCB7CiAgICAgICAgICAgICAgICBvbkVhY2hGZWF0dXJlOiBnZW9fanNvbl9lZmQxNjkyODgwOWU0NjgwOGM4MzBlYjc2NDA2N2ZkZF9vbkVhY2hGZWF0dXJlLAogICAgICAgICAgICAKICAgICAgICB9KTsKICAgICAgICBmdW5jdGlvbiBnZW9fanNvbl9lZmQxNjkyODgwOWU0NjgwOGM4MzBlYjc2NDA2N2ZkZF9hZGQgKGRhdGEpIHsKICAgICAgICAgICAgZ2VvX2pzb25fZWZkMTY5Mjg4MDllNDY4MDhjODMwZWI3NjQwNjdmZGQuYWRkRGF0YShkYXRhKQogICAgICAgICAgICAgICAgLmFkZFRvKG1hcF9jOWJlNjNlMzNkNDY0NDRkOTYyMzlmOWJmZjVmNzJiZSk7CiAgICAgICAgfQogICAgICAgICAgICBnZW9fanNvbl9lZmQxNjkyODgwOWU0NjgwOGM4MzBlYjc2NDA2N2ZkZF9hZGQoeyJiYm94IjogWy0xNzkuOTMsIDQxLjU4NDc2MDUsIDE3OS45MywgNDEuNjQ0NzYwNTAwMDAwMDA0XSwgImZlYXR1cmVzIjogW3siYmJveCI6IFstMTc5LjkzLCA0MS41ODQ3NjA1LCAxNzkuOTMsIDQxLjY0NDc2MDUwMDAwMDAwNF0sICJnZW9tZXRyeSI6IHsiY29vcmRpbmF0ZXMiOiBbW1sxNzkuOSwgNDEuNjQ0NzYwNTAwMDAwMDA0XSwgWzE3OS45MDI5NDA1MTQyMDk5LCA0MS42NDQ2MTYwNDE4MDAxN10sIFsxNzkuOTA1ODUyNzA5NjYwNDgsIDQxLjY0NDE4NDA1ODQxMjFdLCBbMTc5LjkwODcwODU0MDMxNzYzLCA0MS42NDM0Njg3MTAwNzE5N10sIFsxNzkuOTExNDgwNTAyOTcwOTYsIDQxLjY0MjQ3Njg4NTk3NTM0XSwgWzE3OS45MTQxNDE5MDIxMDQ3NywgNDEuNjQxMjE4MTM3OTMwNDVdLCBbMTc5LjkxNjY2NzEwNjk5MDYsIDQxLjYzOTcwNDU4ODM2OTA4XSwgWzE3OS45MTkwMzE3OTg1MjQ5LCA0MS42Mzc5NTA4MTM2MDA4OV0sIFsxNzkuOTIxMjEzMjAzNDM1NiwgNDEuNjM1OTczNzAzNDM1NTk2XSwgWzE3OS45MjMxOTAzMTM2MDA4OCwgNDEuNjMzNzkyMjk4NTI0OTFdLCBbMTc5LjkyNDk0NDA4ODM2OTA3LCA0MS42MzE0Mjc2MDY5OTA1OV0sIFsxNzkuOTI2NDU3NjM3OTMwNDcsIDQxLjYyODkwMjQwMjEwNDc4NV0sIFsxNzkuOTI3NzE2Mzg1OTc1MzQsIDQxLjYyNjI0MTAwMjk3MDk2XSwgWzE3OS45Mjg3MDgyMTAwNzE5NiwgNDEuNjIzNDY5MDQwMzE3NjRdLCBbMTc5LjkyOTQyMzU1ODQxMjEsIDQxLjYyMDYxMzIwOTY2MDQ4XSwgWzE3OS45Mjk4NTU1NDE4MDAxOCwgNDEuNjE3NzAxMDE0MjA5ODldLCBbMTc5LjkzLCA0MS42MTQ3NjA1XSwgWzE3OS45Mjk4NTU1NDE4MDAxOCwgNDEuNjExODE5OTg1NzkwMTFdLCBbMTc5LjkyOTQyMzU1ODQxMjEsIDQxLjYwODkwNzc5MDMzOTUyXSwgWzE3OS45Mjg3MDgyMTAwNzE5NiwgNDEuNjA2MDUxOTU5NjgyMzddLCBbMTc5LjkyNzcxNjM4NTk3NTM0LCA0MS42MDMyNzk5OTcwMjkwNV0sIFsxNzkuOTI2NDU3NjM3OTMwNDcsIDQxLjYwMDYxODU5Nzg5NTIyXSwgWzE3OS45MjQ5NDQwODgzNjkwNywgNDEuNTk4MDkzMzkzMDA5NDE0XSwgWzE3OS45MjMxOTAzMTM2MDA4OCwgNDEuNTk1NzI4NzAxNDc1MDk2XSwgWzE3OS45MjEyMTMyMDM0MzU2LCA0MS41OTM1NDcyOTY1NjQ0MV0sIFsxNzkuOTE5MDMxNzk4NTI0OSwgNDEuNTkxNTcwMTg2Mzk5MTJdLCBbMTc5LjkxNjY2NzEwNjk5MDYsIDQxLjU4OTgxNjQxMTYzMDkzXSwgWzE3OS45MTQxNDE5MDIxMDQ3NywgNDEuNTg4MzAyODYyMDY5NTU0XSwgWzE3OS45MTE0ODA1MDI5NzA5NiwgNDEuNTg3MDQ0MTE0MDI0NjY0XSwgWzE3OS45MDg3MDg1NDAzMTc2MywgNDEuNTg2MDUyMjg5OTI4MDM0XSwgWzE3OS45MDU4NTI3MDk2NjA0OCwgNDEuNTg1MzM2OTQxNTg3OTA0XSwgWzE3OS45MDI5NDA1MTQyMDk5LCA0MS41ODQ5MDQ5NTgxOTk4MzZdLCBbMTc5LjksIDQxLjU4NDc2MDVdLCBbLTE3OS45LCA0MS41ODQ3NjA1XSwgWy0xNzkuOTAyOTQwNTE0MjA5OSwgNDEuNTg0OTA0OTU4MTk5ODM2XSwgWy0xNzkuOTA1ODUyNzA5NjYwNDgsIDQxLjU4NTMzNjk0MTU4NzkwNF0sIFstMTc5LjkwODcwODU0MDMxNzYzLCA0MS41ODYwNTIyODk5MjgwMzRdLCBbLTE3OS45MTE0ODA1MDI5NzA5NiwgNDEuNTg3MDQ0MTE0MDI0NjY0XSwgWy0xNzkuOTE0MTQxOTAyMTA0NzcsIDQxLjU4ODMwMjg2MjA2OTU1NF0sIFstMTc5LjkxNjY2NzEwNjk5MDYsIDQxLjU4OTgxNjQxMTYzMDkzXSwgWy0xNzkuOTE5MDMxNzk4NTI0OSwgNDEuNTkxNTcwMTg2Mzk5MTJdLCBbLTE3OS45MjEyMTMyMDM0MzU2LCA0MS41OTM1NDcyOTY1NjQ0MV0sIFstMTc5LjkyMzE5MDMxMzYwMDg4LCA0MS41OTU3Mjg3MDE0NzUwOTZdLCBbLTE3OS45MjQ5NDQwODgzNjkwNywgNDEuNTk4MDkzMzkzMDA5NDE0XSwgWy0xNzkuOTI2NDU3NjM3OTMwNDcsIDQxLjYwMDYxODU5Nzg5NTIyXSwgWy0xNzkuOTI3NzE2Mzg1OTc1MzQsIDQxLjYwMzI3OTk5NzAyOTA1XSwgWy0xNzkuOTI4NzA4MjEwMDcxOTYsIDQxLjYwNjA1MTk1OTY4MjM3XSwgWy0xNzkuOTI5NDIzNTU4NDEyMSwgNDEuNjA4OTA3NzkwMzM5NTJdLCBbLTE3OS45Mjk4NTU1NDE4MDAxOCwgNDEuNjExODE5OTg1NzkwMTFdLCBbLTE3OS45MywgNDEuNjE0NzYwNV0sIFstMTc5LjkyOTg1NTU0MTgwMDE4LCA0MS42MTc3MDEwMTQyMDk4OV0sIFstMTc5LjkyOTQyMzU1ODQxMjEsIDQxLjYyMDYxMzIwOTY2MDQ4XSwgWy0xNzkuOTI4NzA4MjEwMDcxOTYsIDQxLjYyMzQ2OTA0MDMxNzY0XSwgWy0xNzkuOTI3NzE2Mzg1OTc1MzQsIDQxLjYyNjI0MTAwMjk3MDk2XSwgWy0xNzkuOTI2NDU3NjM3OTMwNDcsIDQxLjYyODkwMjQwMjEwNDc4NV0sIFstMTc5LjkyNDk0NDA4ODM2OTA3LCA0MS42MzE0Mjc2MDY5OTA1OV0sIFstMTc5LjkyMzE5MDMxMzYwMDg4LCA0MS42MzM3OTIyOTg1MjQ5MV0sIFstMTc5LjkyMTIxMzIwMzQzNTYsIDQxLjYzNTk3MzcwMzQzNTU5Nl0sIFstMTc5LjkxOTAzMTc5ODUyNDksIDQxLjYzNzk1MDgxMzYwMDg5XSwgWy0xNzkuOTE2NjY3MTA2OTkwNiwgNDEuNjM5NzA0NTg4MzY5MDhdLCBbLTE3OS45MTQxNDE5MDIxMDQ3NywgNDEuNjQxMjE4MTM3OTMwNDVdLCBbLTE3OS45MTE0ODA1MDI5NzA5NiwgNDEuNjQyNDc2ODg1OTc1MzRdLCBbLTE3OS45MDg3MDg1NDAzMTc2MywgNDEuNjQzNDY4NzEwMDcxOTddLCBbLTE3OS45MDU4NTI3MDk2NjA0OCwgNDEuNjQ0MTg0MDU4NDEyMV0sIFstMTc5LjkwMjk0MDUxNDIwOTksIDQxLjY0NDYxNjA0MTgwMDE3XSwgWy0xNzkuOSwgNDEuNjQ0NzYwNTAwMDAwMDA0XSwgWzE3OS45LCA0MS42NDQ3NjA1MDAwMDAwMDRdXV0sICJ0eXBlIjogIlBvbHlnb24ifSwgImlkIjogIjAiLCAicHJvcGVydGllcyI6IHt9LCAidHlwZSI6ICJGZWF0dXJlIn1dLCAidHlwZSI6ICJGZWF0dXJlQ29sbGVjdGlvbiJ9KTsKICAgICAgICAKPC9zY3JpcHQ+ onload=\"this.contentDocument.open();this.contentDocument.write(atob(this.getAttribute('data-html')));this.contentDocument.close();\" allowfullscreen webkitallowfullscreen mozallowfullscreen></iframe></div></div>"
      ],
      "text/plain": [
       "<folium.folium.Map at 0x1e9b18d98c8>"
      ]
     },
     "execution_count": 8,
     "metadata": {},
     "output_type": "execute_result"
    }
   ],
   "source": [
    "mapa = folium.Map(location=[lat, lon])\n",
    "#points = folium.features.GeoJson(gjson)\n",
    "#mapa.add_children(points)\n",
    "#folium.GeoJson(line_lat).add_to(mapa)\n",
    "#folium.GeoJson(line_lon).add_to(mapa)\n",
    "folium.GeoJson(gslonbuffer).add_to(mapa)\n",
    "folium.GeoJson(gslatbuffer).add_to(mapa)\n",
    "\n",
    "mapa"
   ]
  },
  {
   "cell_type": "code",
   "execution_count": 9,
   "metadata": {},
   "outputs": [],
   "source": [
    "mapa.save(\"LongLatLleida.html\")"
   ]
  }
 ],
 "metadata": {
  "kernelspec": {
   "display_name": "Python 3",
   "language": "python",
   "name": "python3"
  },
  "language_info": {
   "codemirror_mode": {
    "name": "ipython",
    "version": 3
   },
   "file_extension": ".py",
   "mimetype": "text/x-python",
   "name": "python",
   "nbconvert_exporter": "python",
   "pygments_lexer": "ipython3",
   "version": "3.7.6"
  }
 },
 "nbformat": 4,
 "nbformat_minor": 4
}
