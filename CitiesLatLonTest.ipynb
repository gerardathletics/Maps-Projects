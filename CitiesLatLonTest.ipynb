{
 "cells": [
  {
   "cell_type": "code",
   "execution_count": 17,
   "metadata": {},
   "outputs": [],
   "source": [
    "import pandas as pd\n",
    "import geopandas as gpd\n",
    "from geopandas import GeoSeries\n",
    "import folium\n",
    "from shapely.geometry import Point, LineString, shape, mapping\n",
    "import shapely.wkt\n",
    "import pyproj\n",
    "import os\n",
    "import osmnx as ox\n",
    "import ogr\n",
    "import urllib.request\n",
    "import geopy\n",
    "from geopy.geocoders import Nominatim\n",
    "import fiona\n",
    "import shapefile\n",
    "from pyproj import Proj, transform"
   ]
  },
  {
   "cell_type": "code",
   "execution_count": 18,
   "metadata": {},
   "outputs": [],
   "source": [
    "if not os.path.exists('data'): os.makedirs('data')\n",
    "if not os.path.exists('output'): os.makedirs('output')"
   ]
  },
  {
   "cell_type": "markdown",
   "metadata": {},
   "source": [
    "Defining functions for getting the coordinates and city shapefile"
   ]
  },
  {
   "cell_type": "code",
   "execution_count": 19,
   "metadata": {},
   "outputs": [],
   "source": [
    "# Gets the city boundary and saves it as a shapefile, if needed\n",
    "def city_boundary(city):\n",
    "    cityboundary = ox.gdf_from_place(city)  # Creates gdf from the place\n",
    "    ox.save_gdf_shapefile(cityboundary, \"city_boundary\", \"./data\")  # Saves gdf as a shapefile\n",
    "\n",
    "# Gets the coordinates from the city\n",
    "def get_coordinates(name, city):\n",
    "    geolocator = Nominatim(user_agent=name)\n",
    "    location = geolocator.geocode(city)\n",
    "    lat, lon = location.latitude, location.longitude\n",
    "    print((lat, lon))\n",
    "    SeeLocation = folium.Map(location=[lat, lon])\n",
    "    folium.Marker(location=[lat, lon]).add_to(SeeLocation)\n",
    "    return lat, lon, SeeLocation"
   ]
  },
  {
   "cell_type": "markdown",
   "metadata": {},
   "source": [
    "Calling the coordinates function"
   ]
  },
  {
   "cell_type": "code",
   "execution_count": 21,
   "metadata": {},
   "outputs": [
    {
     "name": "stdout",
     "output_type": "stream",
     "text": [
      "(66.0433168, -17.3410402)\n"
     ]
    }
   ],
   "source": [
    "city = 'Húsavík'\n",
    "name = 'Gerard' # Write your name?\n",
    "#city_boundary(city) # Call this if you want a shapefile of the city/municipality\n",
    "lat, lon, AreaMap = get_coordinates(name, city)\n",
    "#AreaMap # Call this if you want to check if the city/area is correct with a leaflet map"
   ]
  },
  {
   "cell_type": "markdown",
   "metadata": {},
   "source": [
    "Creating lines with equal latitude and longitude as the selected city"
   ]
  },
  {
   "cell_type": "code",
   "execution_count": 22,
   "metadata": {},
   "outputs": [],
   "source": [
    "limit_lon = -179.9\n",
    "limit_lon2 = 179.9\n",
    "\n",
    "coordinates = {'LAT': [lat, lat], 'LON': [limit_lon, limit_lon2]}\n",
    "\n",
    "same_lat = pd.DataFrame(data=coordinates)\n",
    "same_lat = gpd.GeoDataFrame(same_lat, geometry=gpd.points_from_xy(same_lat.LON, same_lat.LAT))\n",
    "same_lat.crs = {'init': 'epsg:4326'} #epsg4326\n",
    "\n",
    "#gjson = same_lat.to_json()\n",
    "geom0_lat = same_lat.loc[0]['geometry']\n",
    "geom1_lat = same_lat.loc[1]['geometry']\n",
    "\n",
    "# Create LineString from coordinates\n",
    "startlat, endlat = [(geom0_lat.x, geom0_lat.y), (geom1_lat.x, geom1_lat.y)]\n",
    "line_lat = LineString([startlat, endlat])"
   ]
  },
  {
   "cell_type": "code",
   "execution_count": 23,
   "metadata": {},
   "outputs": [
    {
     "name": "stdout",
     "output_type": "stream",
     "text": [
      "LINESTRING (-17.3410402 -89.90000000000001, -17.3410402 89.90000000000001)\n"
     ]
    }
   ],
   "source": [
    "limit_lat = -89.9\n",
    "limit_lat2 = 89.9\n",
    "\n",
    "coordinates = {'LAT': [limit_lat, limit_lat2], 'LON': [lon, lon]}\n",
    "\n",
    "same_lon = pd.DataFrame(data=coordinates)\n",
    "same_lon = gpd.GeoDataFrame(same_lon, geometry=gpd.points_from_xy(same_lon.LON, same_lon.LAT))\n",
    "same_lon.crs = {'init': 'epsg:4326'}\n",
    "\n",
    "#gjson = same_lat.to_json()\n",
    "geom0_lon = same_lon.loc[0]['geometry']\n",
    "geom1_lon = same_lon.loc[1]['geometry']\n",
    "\n",
    "# Create LineString from coordinates\n",
    "startlon, endlon = [(geom0_lon.x, geom0_lon.y), (geom1_lon.x, geom1_lon.y)]\n",
    "line_lon = LineString([startlon, endlon])\n",
    "print(line_lon)"
   ]
  },
  {
   "cell_type": "code",
   "execution_count": 24,
   "metadata": {},
   "outputs": [],
   "source": [
    "line_lon, line_lat\n",
    "gs_linelon = gpd.GeoSeries([line_lon])\n",
    "gs_linelat = gpd.GeoSeries([line_lat])\n",
    "\n",
    "gslonbuffer = gs_linelon.buffer(0.03)\n",
    "gslonbuffer.crs = {'init': 'epsg:4326'}\n",
    "\n",
    "gslatbuffer = gs_linelat.buffer(0.03)\n",
    "gslatbuffer.crs = {'init': 'epsg:4326'}"
   ]
  },
  {
   "cell_type": "markdown",
   "metadata": {},
   "source": [
    "Plotting the lines in a leaflet map"
   ]
  },
  {
   "cell_type": "code",
   "execution_count": 25,
   "metadata": {},
   "outputs": [
    {
     "data": {
      "text/html": [
       "<div style=\"width:100%;\"><div style=\"position:relative;width:100%;height:0;padding-bottom:60%;\"><iframe src=\"about:blank\" style=\"position:absolute;width:100%;height:100%;left:0;top:0;border:none !important;\" data-html=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 onload=\"this.contentDocument.open();this.contentDocument.write(atob(this.getAttribute('data-html')));this.contentDocument.close();\" allowfullscreen webkitallowfullscreen mozallowfullscreen></iframe></div></div>"
      ],
      "text/plain": [
       "<folium.folium.Map at 0x131c9ab0f48>"
      ]
     },
     "execution_count": 25,
     "metadata": {},
     "output_type": "execute_result"
    }
   ],
   "source": [
    "mapa = folium.Map(location=[lat, lon])\n",
    "#points = folium.features.GeoJson(gjson)\n",
    "#mapa.add_children(points)\n",
    "#folium.GeoJson(line_lat).add_to(mapa)\n",
    "#folium.GeoJson(line_lon).add_to(mapa)\n",
    "folium.GeoJson(gslonbuffer).add_to(mapa)\n",
    "folium.GeoJson(gslatbuffer).add_to(mapa)\n",
    "\n",
    "mapa"
   ]
  },
  {
   "cell_type": "code",
   "execution_count": 14,
   "metadata": {},
   "outputs": [],
   "source": [
    "mapa.save(\"LongLatLleida.html\")"
   ]
  },
  {
   "cell_type": "code",
   "execution_count": 115,
   "metadata": {},
   "outputs": [
    {
     "name": "stdout",
     "output_type": "stream",
     "text": [
      "[(-179.9, 41.6147605), (179.9, 41.6147605)]\n",
      "0    POLYGON ((179.90000 41.66476, 179.90490 41.66452, 179.90975 41.66380, 179.91451 41.66261, 179.91913 41.66095, 179.92357 41.65886, 179.92778 41.65633, 179.93172 41.65341, 179.93536 41.65012, 179.93865 41.64648, 179.94157 41.64254, 179.94410 41.63833, 179.94619 41.63389, 179.94785 41.62927, 179.94904 41.62452, 179.94976 41.61966, 179.95000 41.61476, 179.94976 41.60986, 179.94904 41.60501, 179.94785 41.60025, 179.94619 41.59563, 179.94410 41.59119, 179.94157 41.58698, 179.93865 41.58304, 179.93536 41.57941, 179.93172 41.57611, 179.92778 41.57319, 179.92357 41.57066, 179.91913 41.56857, 179.91451 41.56691, 179.90975 41.56572, 179.90490 41.56500, 179.90000 41.56476, -179.90000 41.56476, -179.90490 41.56500, -179.90975 41.56572, -179.91451 41.56691, -179.91913 41.56857, -179.92357 41.57066, -179.92778 41.57319, -179.93172 41.57611, -179.93536 41.57941, -179.93865 41.58304, -179.94157 41.58698, -179.94410 41.59119, -179.94619 41.59563, -179.94785 41.60025, -179.94904 41.60501, -179.94976 41.60986, -179.95000 41.61476, -179.94976 41.61966, -179.94904 41.62452, -179.94785 41.62927, -179.94619 41.63389, -179.94410 41.63833, -179.94157 41.64254, -179.93865 41.64648, -179.93536 41.65012, -179.93172 41.65341, -179.92778 41.65633, -179.92357 41.65886, -179.91913 41.66095, -179.91451 41.66261, -179.90975 41.66380, -179.90490 41.66452, -179.90000 41.66476, 179.90000 41.66476))\n",
      "dtype: geometry\n"
     ]
    },
    {
     "name": "stderr",
     "output_type": "stream",
     "text": [
      "C:\\Users\\Gerard\\Anaconda3\\lib\\site-packages\\ipykernel_launcher.py:1: FutureWarning: Passing a negative integer is deprecated in version 1.0 and will not be supported in future version. Instead, use None to not limit the column width.\n",
      "  \"\"\"Entry point for launching an IPython kernel.\n"
     ]
    }
   ],
   "source": [
    "pd.set_option('display.max_colwidth', -1)\n",
    "print(list(line_lat.coords))\n",
    "print(gslatbuffer)"
   ]
  },
  {
   "cell_type": "code",
   "execution_count": 105,
   "metadata": {},
   "outputs": [
    {
     "name": "stderr",
     "output_type": "stream",
     "text": [
      "C:\\Users\\Gerard\\Anaconda3\\lib\\site-packages\\pyproj\\crs.py:77: FutureWarning: '+init=<authority>:<code>' syntax is deprecated. '<authority>:<code>' is the preferred initialization method.\n",
      "  return _prepare_from_string(\" \".join(pjargs))\n",
      "C:\\Users\\Gerard\\Anaconda3\\lib\\site-packages\\pyproj\\crs.py:77: FutureWarning: '+init=<authority>:<code>' syntax is deprecated. '<authority>:<code>' is the preferred initialization method.\n",
      "  return _prepare_from_string(\" \".join(pjargs))\n"
     ]
    },
    {
     "ename": "TypeError",
     "evalue": "transform() missing 1 required positional argument: 'y'",
     "output_type": "error",
     "traceback": [
      "\u001b[1;31m---------------------------------------------------------------------------\u001b[0m",
      "\u001b[1;31mTypeError\u001b[0m                                 Traceback (most recent call last)",
      "\u001b[1;32m<ipython-input-105-7aad3bb494ad>\u001b[0m in \u001b[0;36m<module>\u001b[1;34m\u001b[0m\n\u001b[0;32m      2\u001b[0m \u001b[0moutProj\u001b[0m \u001b[1;33m=\u001b[0m \u001b[0mProj\u001b[0m\u001b[1;33m(\u001b[0m\u001b[0minit\u001b[0m\u001b[1;33m=\u001b[0m\u001b[1;34m'epsg:3857'\u001b[0m\u001b[1;33m)\u001b[0m\u001b[1;33m\u001b[0m\u001b[1;33m\u001b[0m\u001b[0m\n\u001b[0;32m      3\u001b[0m \u001b[0mx1\u001b[0m\u001b[1;33m,\u001b[0m \u001b[0my1\u001b[0m \u001b[1;33m=\u001b[0m \u001b[0mlon\u001b[0m\u001b[1;33m,\u001b[0m \u001b[0mlat\u001b[0m\u001b[1;33m\u001b[0m\u001b[1;33m\u001b[0m\u001b[0m\n\u001b[1;32m----> 4\u001b[1;33m \u001b[0mx2\u001b[0m\u001b[1;33m,\u001b[0m \u001b[0my2\u001b[0m \u001b[1;33m=\u001b[0m \u001b[0mtransform\u001b[0m\u001b[1;33m(\u001b[0m\u001b[0minProj\u001b[0m\u001b[1;33m,\u001b[0m \u001b[0moutProj\u001b[0m\u001b[1;33m,\u001b[0m \u001b[0mgslatbuffer\u001b[0m\u001b[1;33m)\u001b[0m\u001b[1;33m\u001b[0m\u001b[1;33m\u001b[0m\u001b[0m\n\u001b[0m",
      "\u001b[1;31mTypeError\u001b[0m: transform() missing 1 required positional argument: 'y'"
     ]
    }
   ],
   "source": [
    "inProj = Proj(init='epsg:4326')\n",
    "outProj = Proj(init='epsg:3857')\n",
    "x1, y1 = lon, lat\n",
    "x2, y2 = transform(inProj, outProj, x1, y1)"
   ]
  },
  {
   "cell_type": "code",
   "execution_count": null,
   "metadata": {},
   "outputs": [],
   "source": [
    " "
   ]
  },
  {
   "cell_type": "code",
   "execution_count": null,
   "metadata": {},
   "outputs": [],
   "source": []
  }
 ],
 "metadata": {
  "kernelspec": {
   "display_name": "Python 3",
   "language": "python",
   "name": "python3"
  },
  "language_info": {
   "codemirror_mode": {
    "name": "ipython",
    "version": 3
   },
   "file_extension": ".py",
   "mimetype": "text/x-python",
   "name": "python",
   "nbconvert_exporter": "python",
   "pygments_lexer": "ipython3",
   "version": "3.7.6"
  }
 },
 "nbformat": 4,
 "nbformat_minor": 4
}
